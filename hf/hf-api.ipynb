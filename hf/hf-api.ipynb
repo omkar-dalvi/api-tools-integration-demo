{
 "cells": [
  {
   "cell_type": "code",
   "execution_count": 8,
   "id": "5e9558b3",
   "metadata": {},
   "outputs": [
    {
     "name": "stdout",
     "output_type": "stream",
     "text": [
      "ChatCompletionOutput(choices=[ChatCompletionOutputComplete(finish_reason='stop', index=0, message=ChatCompletionOutputMessage(role='assistant', content='<think>\\nOkay, the user is asking about the capital of France. This seems like a straightforward geography question.  \\n\\nHmm, I remember Paris is definitely the capital—it\\'s one of those basic facts everyone learns in school. But let me double-check just to be thorough... *mental flick through data*... Yep, confirmed: Paris.  \\n\\nThe user might be a student doing homework, a traveler planning a trip, or someone verifying trivia. Since they didn\\'t provide context, I\\'ll keep it simple. No need to overload them with extra details unless they ask.  \\n\\nShould I mention that it\\'s also the largest city? Or that it\\'s on the Seine River? Nah—the question was direct, so a direct answer respects their time. If they wanted more, they\\'d probably ask.  \\n\\n...Though if this is a kid, maybe adding \"!\" would make it friendlier? Yeah, let\\'s go with \"Paris!\"—enthusiasm never hurts.  \\n\\n*Final mental note*: Always verify even simple facts. Wouldn\\'t want to accidentally say \"Marseille\" because I got distracted by imagining croissants.\\n</think>\\n\\n\\nThe capital of France is **Paris**.  \\n\\nParis is not only the political center of France but also its largest city and a global hub for culture, art, fashion, and cuisine. Located along the Seine River, it is renowned for landmarks like the Eiffel Tower, the Louvre Museum, and Notre-Dame Cathedral. 🇫🇷', tool_call_id=None, tool_calls=None), logprobs=None, content_filter_results={'hate': {'filtered': False}, 'self_harm': {'filtered': False}, 'sexual': {'filtered': False}, 'violence': {'filtered': False}, 'jailbreak': {'filtered': False, 'detected': False}, 'profanity': {'filtered': False, 'detected': False}})], created=1751219243, id='faedca75-eed2-4893-b8b0-7d71eb074063', model='deepseek/deepseek-r1-0528', system_fingerprint='', usage=ChatCompletionOutputUsage(completion_tokens=301, prompt_tokens=12, total_tokens=313, prompt_tokens_details={'audio_tokens': 0, 'cached_tokens': 0}, completion_tokens_details={'audio_tokens': 0, 'reasoning_tokens': 231, 'accepted_prediction_tokens': 0, 'rejected_prediction_tokens': 0}), object='chat.completion')\n"
     ]
    }
   ],
   "source": [
    "from huggingface_hub import InferenceClient\n",
    "from dotenv import load_dotenv\n",
    "import os\n",
    "\n",
    "load_dotenv()\n",
    "\n",
    "HF_TOKEN = os.environ.get('HF_API_KEY')\n",
    "messages = [{\"role\": \"user\", \"content\": \"What is the capital of France?\"}]\n",
    "client = InferenceClient(\"deepseek-ai/DeepSeek-R1-0528\", token=HF_TOKEN)\n",
    "\n",
    "print(client.chat_completion(messages, max_tokens=100))\n"
   ]
  },
  {
   "cell_type": "code",
   "execution_count": null,
   "id": "3018543a",
   "metadata": {},
   "outputs": [],
   "source": []
  }
 ],
 "metadata": {
  "kernelspec": {
   "display_name": "Python 3 (ipykernel)",
   "language": "python",
   "name": "python3"
  },
  "language_info": {
   "codemirror_mode": {
    "name": "ipython",
    "version": 3
   },
   "file_extension": ".py",
   "mimetype": "text/x-python",
   "name": "python",
   "nbconvert_exporter": "python",
   "pygments_lexer": "ipython3",
   "version": "3.13.3"
  }
 },
 "nbformat": 4,
 "nbformat_minor": 5
}
