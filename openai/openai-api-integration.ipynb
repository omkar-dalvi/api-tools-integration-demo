{
  "cells": [
    {
      "cell_type": "markdown",
      "id": "f48ef51b",
      "metadata": {
        "id": "f48ef51b"
      },
      "source": [
        "## OpenAI Responses API Demo\n"
      ]
    },
    {
      "cell_type": "markdown",
      "id": "1eff9d16",
      "metadata": {
        "id": "1eff9d16"
      },
      "source": [
        "## 📦 1. Install & Setup"
      ]
    },
    {
      "cell_type": "code",
      "execution_count": null,
      "id": "7788810a",
      "metadata": {
        "colab": {
          "base_uri": "https://localhost:8080/"
        },
        "id": "7788810a",
        "outputId": "f33ec03f-d2e5-4d50-833d-c75a132a59fa"
      },
      "outputs": [
        {
          "output_type": "stream",
          "name": "stdout",
          "text": [
            "Requirement already satisfied: openai in /usr/local/lib/python3.11/dist-packages (1.91.0)\n",
            "Collecting python-dotenv\n",
            "  Downloading python_dotenv-1.1.1-py3-none-any.whl.metadata (24 kB)\n",
            "Requirement already satisfied: anyio<5,>=3.5.0 in /usr/local/lib/python3.11/dist-packages (from openai) (4.9.0)\n",
            "Requirement already satisfied: distro<2,>=1.7.0 in /usr/local/lib/python3.11/dist-packages (from openai) (1.9.0)\n",
            "Requirement already satisfied: httpx<1,>=0.23.0 in /usr/local/lib/python3.11/dist-packages (from openai) (0.28.1)\n",
            "Requirement already satisfied: jiter<1,>=0.4.0 in /usr/local/lib/python3.11/dist-packages (from openai) (0.10.0)\n",
            "Requirement already satisfied: pydantic<3,>=1.9.0 in /usr/local/lib/python3.11/dist-packages (from openai) (2.11.7)\n",
            "Requirement already satisfied: sniffio in /usr/local/lib/python3.11/dist-packages (from openai) (1.3.1)\n",
            "Requirement already satisfied: tqdm>4 in /usr/local/lib/python3.11/dist-packages (from openai) (4.67.1)\n",
            "Requirement already satisfied: typing-extensions<5,>=4.11 in /usr/local/lib/python3.11/dist-packages (from openai) (4.14.0)\n",
            "Requirement already satisfied: idna>=2.8 in /usr/local/lib/python3.11/dist-packages (from anyio<5,>=3.5.0->openai) (3.10)\n",
            "Requirement already satisfied: certifi in /usr/local/lib/python3.11/dist-packages (from httpx<1,>=0.23.0->openai) (2025.6.15)\n",
            "Requirement already satisfied: httpcore==1.* in /usr/local/lib/python3.11/dist-packages (from httpx<1,>=0.23.0->openai) (1.0.9)\n",
            "Requirement already satisfied: h11>=0.16 in /usr/local/lib/python3.11/dist-packages (from httpcore==1.*->httpx<1,>=0.23.0->openai) (0.16.0)\n",
            "Requirement already satisfied: annotated-types>=0.6.0 in /usr/local/lib/python3.11/dist-packages (from pydantic<3,>=1.9.0->openai) (0.7.0)\n",
            "Requirement already satisfied: pydantic-core==2.33.2 in /usr/local/lib/python3.11/dist-packages (from pydantic<3,>=1.9.0->openai) (2.33.2)\n",
            "Requirement already satisfied: typing-inspection>=0.4.0 in /usr/local/lib/python3.11/dist-packages (from pydantic<3,>=1.9.0->openai) (0.4.1)\n",
            "Downloading python_dotenv-1.1.1-py3-none-any.whl (20 kB)\n",
            "Installing collected packages: python-dotenv\n",
            "Successfully installed python-dotenv-1.1.1\n"
          ]
        }
      ],
      "source": [
        "! pip install openai python-dotenv\n"
      ]
    },
    {
      "cell_type": "code",
      "execution_count": null,
      "id": "ae5a7df2",
      "metadata": {
        "id": "ae5a7df2"
      },
      "outputs": [],
      "source": [
        "import os\n",
        "from openai import OpenAI\n",
        "from dotenv import load_dotenv\n",
        "load_dotenv()\n",
        "client = OpenAI(api_key=os.getenv(\"OPENAI_API_KEY\"))"
      ]
    },
    {
      "cell_type": "markdown",
      "id": "2014c8f1",
      "metadata": {
        "id": "2014c8f1"
      },
      "source": [
        "## 2. Basic Response Creation\n",
        " `model`, `input`, `instructions`, `temperature`, `max_output_tokens`"
      ]
    },
    {
      "cell_type": "code",
      "execution_count": null,
      "id": "ca964270",
      "metadata": {
        "colab": {
          "base_uri": "https://localhost:8080/"
        },
        "id": "ca964270",
        "outputId": "9109e83e-119f-46e4-e590-32caa00da980"
      },
      "outputs": [
        {
          "output_type": "stream",
          "name": "stdout",
          "text": [
            "Output: The capital of France is Paris.\n"
          ]
        }
      ],
      "source": [
        "resp = client.responses.create(\n",
        "    model=\"gpt-4o-mini\",\n",
        "    instructions=\"You are an assistant that helps answer user's questions.\",\n",
        "    input=\"What is the capital of France?\",\n",
        "    temperature=0.2,\n",
        "    max_output_tokens=50\n",
        ")\n",
        "print(\"Output:\", resp.output_text)"
      ]
    },
    {
      "cell_type": "markdown",
      "id": "c347935e",
      "metadata": {
        "id": "c347935e"
      },
      "source": [
        "## 3. Using `stream=True`"
      ]
    },
    {
      "cell_type": "code",
      "execution_count": null,
      "id": "a2cdc99f",
      "metadata": {
        "colab": {
          "base_uri": "https://localhost:8080/"
        },
        "id": "a2cdc99f",
        "outputId": "2547da56-16b3-4261-bbc7-00f5e845c420"
      },
      "outputs": [
        {
          "output_type": "stream",
          "name": "stdout",
          "text": [
            "Streaming:\n",
            "Crimson kisses horizon, whispers of twilight dance in silence."
          ]
        }
      ],
      "source": [
        "streamed = client.responses.create(\n",
        "    model=\"gpt-4o-mini\",\n",
        "    instructions=\"Speak poetically.\",\n",
        "    input=\"Describe a sunset in 10 words.\",\n",
        "    stream=True\n",
        ")\n",
        "\n",
        "print(\"Streaming:\")\n",
        "for event in streamed:\n",
        "    if hasattr(event, \"type\") and \"text.delta\" in event.type:\n",
        "        print(event.delta, end=\"\", flush=True)"
      ]
    },
    {
      "cell_type": "markdown",
      "source": [
        "## 4. Storing and Retrieving"
      ],
      "metadata": {
        "id": "zfsxUfl5RyhC"
      },
      "id": "zfsxUfl5RyhC"
    },
    {
      "cell_type": "code",
      "source": [
        "resp2 = client.responses.create(\n",
        "    model=\"gpt-4o-mini\",\n",
        "    input=\"Tell me a fun fact.\",\n",
        "    store=True\n",
        ")\n",
        "print(\"Stored ID:\", resp2.id)"
      ],
      "metadata": {
        "colab": {
          "base_uri": "https://localhost:8080/"
        },
        "id": "mUPAXKG_R3AT",
        "outputId": "f2f7f52e-ba76-4dba-d9b8-f5d2ad8c8beb"
      },
      "id": "mUPAXKG_R3AT",
      "execution_count": null,
      "outputs": [
        {
          "output_type": "stream",
          "name": "stdout",
          "text": [
            "Stored ID: resp_68621e98706481a19cc8cb9c44a590a1004648c4fe2b3632\n"
          ]
        }
      ]
    },
    {
      "cell_type": "code",
      "source": [
        "fetched = client.responses.retrieve(resp2.id)\n",
        "print(\"Retrieved Output:\", fetched.output_text)"
      ],
      "metadata": {
        "colab": {
          "base_uri": "https://localhost:8080/"
        },
        "id": "9qfCz8JkQMyC",
        "outputId": "15d87952-c579-4de5-c00e-15f7bb21dedb"
      },
      "id": "9qfCz8JkQMyC",
      "execution_count": null,
      "outputs": [
        {
          "output_type": "stream",
          "name": "stdout",
          "text": [
            "Retrieved Output: Did you know that honey never spoils? Archaeologists have found pots of honey in ancient Egyptian tombs that are over 3,000 years old and still perfectly edible! This is because honey's low moisture content and acidic pH create an inhospitable environment for bacteria and microorganisms.\n"
          ]
        }
      ]
    },
    {
      "cell_type": "markdown",
      "source": [
        "## 5. Conversation Chaining"
      ],
      "metadata": {
        "id": "xL9H0i9LR8gh"
      },
      "id": "xL9H0i9LR8gh"
    },
    {
      "cell_type": "code",
      "source": [
        "resp3 = client.responses.create(\n",
        "    model=\"gpt-4o-mini\",\n",
        "    input=\"Define photosynthesis.\",\n",
        "    store=True\n",
        ")\n"
      ],
      "metadata": {
        "id": "qUrfN6etR5g4"
      },
      "id": "qUrfN6etR5g4",
      "execution_count": null,
      "outputs": []
    },
    {
      "cell_type": "code",
      "source": [
        "resp4 = client.responses.create(\n",
        "    model=\"gpt-4o-mini\",\n",
        "    previous_response_id=resp3.id,\n",
        "    input=\"Explain it like I'm five.\"\n",
        ")\n"
      ],
      "metadata": {
        "id": "p8P4yHKdSAnV"
      },
      "id": "p8P4yHKdSAnV",
      "execution_count": null,
      "outputs": []
    },
    {
      "cell_type": "code",
      "source": [
        "print(\"Chained Output:\", resp4.output_text)"
      ],
      "metadata": {
        "colab": {
          "base_uri": "https://localhost:8080/"
        },
        "id": "mS4kvxUOSBgl",
        "outputId": "c17bfba6-2aa7-42a0-e772-82610fe9e9b1"
      },
      "id": "mS4kvxUOSBgl",
      "execution_count": null,
      "outputs": [
        {
          "output_type": "stream",
          "name": "stdout",
          "text": [
            "Chained Output: Okay! Think of photosynthesis like a special recipe that plants use to make their own food. \n",
            "\n",
            "1. **Ingredients**: Plants need two main things: sunlight and water. They also need a gas called carbon dioxide from the air.\n",
            "\n",
            "2. **Cooking**: With the help of the sunlight, plants mix these ingredients together inside their leaves, like making a smoothie.\n",
            "\n",
            "3. **Yummy Result**: When they’re done, they make a kind of sugar to eat (that helps them grow) and they also make oxygen, which we breathe!\n",
            "\n",
            "So, photosynthesis is how plants turn sunlight into food and help us get the air we need!\n"
          ]
        }
      ]
    },
    {
      "cell_type": "code",
      "source": [
        "resp4.status"
      ],
      "metadata": {
        "colab": {
          "base_uri": "https://localhost:8080/",
          "height": 35
        },
        "id": "TfrkgLFKWpZJ",
        "outputId": "4d07d0bc-3e8e-4ced-92d6-506fbc7f9780"
      },
      "id": "TfrkgLFKWpZJ",
      "execution_count": null,
      "outputs": [
        {
          "output_type": "execute_result",
          "data": {
            "text/plain": [
              "'completed'"
            ],
            "application/vnd.google.colaboratory.intrinsic+json": {
              "type": "string"
            }
          },
          "metadata": {},
          "execution_count": 27
        }
      ]
    },
    {
      "cell_type": "markdown",
      "source": [
        "# 7. Specifying `reasoning`"
      ],
      "metadata": {
        "id": "F7kd9nCsWVWe"
      },
      "id": "F7kd9nCsWVWe"
    },
    {
      "cell_type": "code",
      "source": [
        "# Due to limitation of free-tier OpenAI APIs, we can't see the output of the API, if you have a paid subscription token, feel free to use the below code to get output\n",
        "resp5 = client.responses.create(\n",
        "    model=\"o1-pro\",\n",
        "    input=\"What's the difference between weather and climate?\",\n",
        "    reasoning={\"effort\": \"low\"}  # use low effort for faster, cheaper reasoning\n",
        ")\n",
        "\n",
        "print(resp5.output_text)"
      ],
      "metadata": {
        "id": "1mHYxJ_YWT2E"
      },
      "id": "1mHYxJ_YWT2E",
      "execution_count": null,
      "outputs": []
    },
    {
      "cell_type": "code",
      "source": [],
      "metadata": {
        "id": "QSz0vYzkWRa3"
      },
      "id": "QSz0vYzkWRa3",
      "execution_count": null,
      "outputs": []
    }
  ],
  "metadata": {
    "kernelspec": {
      "display_name": "Python 3 (ipykernel)",
      "language": "python",
      "name": "python3"
    },
    "colab": {
      "provenance": [],
      "toc_visible": true
    }
  },
  "nbformat": 4,
  "nbformat_minor": 5
}